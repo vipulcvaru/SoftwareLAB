{
  "nbformat": 4,
  "nbformat_minor": 0,
  "metadata": {
    "colab": {
      "provenance": [],
      "authorship_tag": "ABX9TyN1M3UmaE5zLm4C1ETGoziq",
      "include_colab_link": true
    },
    "kernelspec": {
      "name": "python3",
      "display_name": "Python 3"
    },
    "language_info": {
      "name": "python"
    }
  },
  "cells": [
    {
      "cell_type": "markdown",
      "metadata": {
        "id": "view-in-github",
        "colab_type": "text"
      },
      "source": [
        "<a href=\"https://colab.research.google.com/github/vipulcvaru/SoftwareLAB/blob/main/IR_5.ipynb\" target=\"_parent\"><img src=\"https://colab.research.google.com/assets/colab-badge.svg\" alt=\"Open In Colab\"/></a>"
      ]
    },
    {
      "cell_type": "code",
      "execution_count": null,
      "metadata": {
        "colab": {
          "base_uri": "https://localhost:8080/"
        },
        "id": "G4TpkbFGPm4I",
        "outputId": "8acd7b68-b0f7-44c4-f4b2-be8d5e85e5fe"
      },
      "outputs": [
        {
          "output_type": "stream",
          "name": "stdout",
          "text": [
            "Crawling: https://www.myntra.com/men-tshirts?rawQuery=men-tshirts&p=1\n"
          ]
        },
        {
          "output_type": "stream",
          "name": "stderr",
          "text": [
            "<ipython-input-1-c271da7e82eb>:24: DeprecationWarning: The 'text' argument to find()-type methods is deprecated. Use 'string' instead.\n",
            "  script_tag = soup.find('script', text=lambda t: t and 'window.__myx = ' in t)\n"
          ]
        },
        {
          "output_type": "stream",
          "name": "stdout",
          "text": [
            "Crawling: https://www.myntra.com/men-tshirts?rawQuery=men-tshirts&p=2\n",
            "Crawled 0 products:\n"
          ]
        }
      ],
      "source": [
        "import requests\n",
        "from bs4 import BeautifulSoup\n",
        "import json\n",
        "import time\n",
        "\n",
        "def crawl_myntra(base_url, max_pages=2):\n",
        "    products = []\n",
        "    page = 1\n",
        "\n",
        "    headers = {\n",
        "        'User-Agent': 'Mozilla/5.0 (Windows NT 10.0; Win64; x64) AppleWebKit/537.36 (KHTML, like Gecko) Chrome/91.0.4472.124 Safari/537.36'\n",
        "    }\n",
        "\n",
        "    while page <= max_pages:\n",
        "        url = f\"{base_url}&p={page}\"\n",
        "        print(f\"Crawling: {url}\")\n",
        "\n",
        "        try:\n",
        "            response = requests.get(url, headers=headers)\n",
        "            response.raise_for_status()\n",
        "            soup = BeautifulSoup(response.text, 'html.parser')\n",
        "\n",
        "            # Find the script tag containing the product data\n",
        "            script_tag = soup.find('script', text=lambda t: t and 'window.__myx = ' in t)\n",
        "\n",
        "            if script_tag:\n",
        "                # Extract the JSON data\n",
        "                json_text = script_tag.string.split('window.__myx = ')[1].split(';</script>')[0]\n",
        "                data = json.loads(json_text)  # Parse the JSON data\n",
        "\n",
        "                # Extract product information\n",
        "                product_list = data.get('searchData', {}).get('results', {}).get('products', [])\n",
        "\n",
        "                for product in product_list:\n",
        "                    products.append({\n",
        "                        'name': product.get('productName', ''),\n",
        "                        'brand': product.get('brand', ''),\n",
        "                        'price': product.get('price', ''),\n",
        "                        'link': f\"https://www.myntra.com/{product.get('landingPageUrl', '')}\"\n",
        "                    })\n",
        "\n",
        "            page += 1\n",
        "\n",
        "        except requests.RequestException as e:\n",
        "            print(f\"Error crawling {url}: {e}\")\n",
        "            break\n",
        "\n",
        "        time.sleep(2)  # Be polite, don't overwhelm the server\n",
        "\n",
        "    return products\n",
        "\n",
        "if __name__ == \"__main__\":\n",
        "    base_url = \"https://www.myntra.com/men-tshirts?rawQuery=men-tshirts\"\n",
        "    products = crawl_myntra(base_url)\n",
        "\n",
        "    print(f\"Crawled {len(products)} products:\")\n",
        "    for product in products:\n",
        "        print(f\"Name: {product['name']}\")\n",
        "        print(f\"Brand: {product['brand']}\")\n",
        "        print(f\"Price: {product['price']}\")\n",
        "        print(f\"Link: {product['link']}\")\n",
        "        print(\"-\" * 50)"
      ]
    },
    {
      "cell_type": "code",
      "source": [],
      "metadata": {
        "id": "moQ5kj1BP43M"
      },
      "execution_count": null,
      "outputs": []
    }
  ]
}